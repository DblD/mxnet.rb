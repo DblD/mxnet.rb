{
 "cells": [
  {
   "cell_type": "markdown",
   "metadata": {},
   "source": [
    "# 多層パーセプトロン"
   ]
  },
  {
   "cell_type": "markdown",
   "metadata": {},
   "source": [
    "このノートブックは、以下のページに基づいて作成されています。\n",
    "\n",
    "- http://gluon.mxnet.io/chapter03_deep-neural-networks/mlp-scratch.html"
   ]
  },
  {
   "cell_type": "code",
   "execution_count": 1,
   "metadata": {},
   "outputs": [
    {
     "data": {
      "text/plain": [
       "true"
      ]
     },
     "execution_count": 1,
     "metadata": {},
     "output_type": "execute_result"
    }
   ],
   "source": [
    "require 'mxnet'"
   ]
  },
  {
   "cell_type": "code",
   "execution_count": 2,
   "metadata": {},
   "outputs": [
    {
     "data": {
      "text/plain": [
       "#<MXNet::Context:0x00007fa718b848b0 @device_type_id=1, @device_id=0>"
      ]
     },
     "execution_count": 2,
     "metadata": {},
     "output_type": "execute_result"
    }
   ],
   "source": [
    "@data_ctx = MXNet.cpu\n",
    "@model_ctx = MXNet.cpu\n",
    "#@model_ctx = MXNet.gpu"
   ]
  },
  {
   "cell_type": "markdown",
   "metadata": {},
   "source": [
    "## データのロード"
   ]
  },
  {
   "cell_type": "markdown",
   "metadata": {},
   "source": [
    "必要ならダウンロードする"
   ]
  },
  {
   "cell_type": "code",
   "execution_count": 3,
   "metadata": {},
   "outputs": [],
   "source": [
    "unless File.exist?('train-images-idx3-ubyte') &&\n",
    "       File.exist?('train-labels-idx1-ubyte')\n",
    "  system(\"wget http://data.mxnet.io/mxnet/data/mnist.zip\")\n",
    "  system(\"unzip -x mnist.zip\")\n",
    "end"
   ]
  },
  {
   "cell_type": "code",
   "execution_count": 4,
   "metadata": {},
   "outputs": [],
   "source": [
    "num_inputs = 784\n",
    "num_outputs = 10\n",
    "batch_size = 64\n",
    "num_examples = 60000\n",
    "\n",
    "train_iter = MXNet::IO::MNISTIter.new(\n",
    "  batch_size: batch_size,\n",
    "  shuffle: true)\n",
    "test_iter = MXNet::IO::MNISTIter.new(\n",
    "  image: 't10k-images-idx3-ubyte',\n",
    "  label: 't10k-labels-idx1-ubyte',\n",
    "  batch_size: batch_size,\n",
    "  shuffle: false)\n",
    "nil"
   ]
  },
  {
   "cell_type": "markdown",
   "metadata": {},
   "source": [
    "## パラメータ"
   ]
  },
  {
   "cell_type": "markdown",
   "metadata": {},
   "source": [
    "ニューラルネットワークのパラメータを定義する。"
   ]
  },
  {
   "cell_type": "code",
   "execution_count": 5,
   "metadata": {},
   "outputs": [],
   "source": [
    "#######################\n",
    "#  Set some constants so it's easy to modify the network later\n",
    "#######################\n",
    "num_hidden = 256\n",
    "weight_scale = 0.01\n",
    "\n",
    "#######################\n",
    "#  Allocate parameters for the first hidden layer\n",
    "#######################\n",
    "@w1 = MXNet::NDArray.random_normal(shape: [num_inputs, num_hidden], scale: weight_scale, ctx: @model_ctx)\n",
    "@b1 = MXNet::NDArray.random_normal(shape: [num_hidden], scale: weight_scale, ctx: @model_ctx)\n",
    "\n",
    "#######################\n",
    "#  Allocate parameters for the second hidden layer\n",
    "#######################\n",
    "@w2 = MXNet::NDArray.random_normal(shape: [num_hidden, num_hidden], scale: weight_scale, ctx: @model_ctx)\n",
    "@b2 = MXNet::NDArray.random_normal(shape: [num_hidden], scale: weight_scale, ctx: @model_ctx)\n",
    "\n",
    "#######################\n",
    "#  Allocate parameters for the output layer\n",
    "#######################\n",
    "@w3 = MXNet::NDArray.random_normal(shape: [num_hidden, num_outputs], scale: weight_scale, ctx: @model_ctx)\n",
    "@b3 = MXNet::NDArray.random_normal(shape: [num_outputs], scale: weight_scale, ctx: @model_ctx)\n",
    "\n",
    "@params = [@w1, @b1, @w2, @b2, @w3, @b3]\n",
    "nil"
   ]
  },
  {
   "cell_type": "code",
   "execution_count": 6,
   "metadata": {},
   "outputs": [],
   "source": [
    "@params.each do |param|\n",
    "  param.attach_grad\n",
    "end\n",
    "nil"
   ]
  },
  {
   "cell_type": "markdown",
   "metadata": {},
   "source": [
    "## 活性化関数"
   ]
  },
  {
   "cell_type": "code",
   "execution_count": 7,
   "metadata": {},
   "outputs": [
    {
     "data": {
      "text/plain": [
       ":relu"
      ]
     },
     "execution_count": 7,
     "metadata": {},
     "output_type": "execute_result"
    }
   ],
   "source": [
    "def relu(x)\n",
    "  MXNet::NDArray.maximum(x, MXNet::NDArray.zeros_like(x))\n",
    "end"
   ]
  },
  {
   "cell_type": "markdown",
   "metadata": {},
   "source": [
    "## Softmax 出力"
   ]
  },
  {
   "cell_type": "code",
   "execution_count": 8,
   "metadata": {},
   "outputs": [
    {
     "data": {
      "text/plain": [
       ":softmax"
      ]
     },
     "execution_count": 8,
     "metadata": {},
     "output_type": "execute_result"
    }
   ],
   "source": [
    "def softmax(y_linear)\n",
    "  exp = MXNet::NDArray.exp(y_linear - MXNet::NDArray.max(y_linear))\n",
    "  partition = MXNet::NDArray.nansum(exp, axis: 0, exclude: true).reshape([-1, 1])\n",
    "  return exp / partition\n",
    "end"
   ]
  },
  {
   "cell_type": "markdown",
   "metadata": {},
   "source": [
    "## Softmax 交差エントロピー損失関数"
   ]
  },
  {
   "cell_type": "code",
   "execution_count": 9,
   "metadata": {},
   "outputs": [
    {
     "data": {
      "text/plain": [
       ":cross_entropy"
      ]
     },
     "execution_count": 9,
     "metadata": {},
     "output_type": "execute_result"
    }
   ],
   "source": [
    "def cross_entropy(y_hat, y)\n",
    "  return -MXNet::NDArray.nansum(y * MXNet::NDArray.log(y_hat), axis: 0, exclude: true)\n",
    "end"
   ]
  },
  {
   "cell_type": "code",
   "execution_count": 10,
   "metadata": {},
   "outputs": [
    {
     "data": {
      "text/plain": [
       ":softmax_cross_entropy"
      ]
     },
     "execution_count": 10,
     "metadata": {},
     "output_type": "execute_result"
    }
   ],
   "source": [
    "def softmax_cross_entropy(y_hat_linear, y)\n",
    "  return -MXNet::NDArray.nansum(y * MXNet::NDArray.log_softmax(y_hat_linear), axis: 0, exclude: true)\n",
    "end"
   ]
  },
  {
   "cell_type": "markdown",
   "metadata": {},
   "source": [
    "## モデル定義"
   ]
  },
  {
   "cell_type": "code",
   "execution_count": 11,
   "metadata": {},
   "outputs": [
    {
     "data": {
      "text/plain": [
       ":net"
      ]
     },
     "execution_count": 11,
     "metadata": {},
     "output_type": "execute_result"
    }
   ],
   "source": [
    "def net(x)\n",
    "  # first hidden layer\n",
    "  h1_linear = MXNet::NDArray.dot(x, @w1) + @b1\n",
    "  h1 = relu(h1_linear)\n",
    "\n",
    "  # second hidden layer\n",
    "  h2_linear = MXNet::NDArray.dot(h1, @w2) + @b2\n",
    "  h2 = relu(h2_linear)\n",
    "\n",
    "  # output layer\n",
    "  y_hat_linear = MXNet::NDArray.dot(h2, @w3) + @b3\n",
    "  return y_hat_linear\n",
    "end"
   ]
  },
  {
   "cell_type": "markdown",
   "metadata": {},
   "source": [
    "## オプティマイザ"
   ]
  },
  {
   "cell_type": "code",
   "execution_count": 12,
   "metadata": {},
   "outputs": [
    {
     "data": {
      "text/plain": [
       ":sgd"
      ]
     },
     "execution_count": 12,
     "metadata": {},
     "output_type": "execute_result"
    }
   ],
   "source": [
    "def sgd(params, lr)\n",
    "  params.each do |param|\n",
    "    param[0..-1] = param - lr * param.grad\n",
    "  end\n",
    "end"
   ]
  },
  {
   "cell_type": "markdown",
   "metadata": {},
   "source": [
    "## 評価尺度"
   ]
  },
  {
   "cell_type": "code",
   "execution_count": 13,
   "metadata": {},
   "outputs": [
    {
     "data": {
      "text/plain": [
       ":evaluate_accuracy"
      ]
     },
     "execution_count": 13,
     "metadata": {},
     "output_type": "execute_result"
    }
   ],
   "source": [
    "def evaluate_accuracy(data_iter)\n",
    "  numerator = 0.0\n",
    "  denominator = 0.0\n",
    "  data_iter.each_with_index do |batch, i|\n",
    "    data = batch.data[0].as_in_context(@model_ctx).reshape([-1, 784])\n",
    "    label = batch.label[0].as_in_context(@model_ctx)\n",
    "    output = net(data)\n",
    "    predictions = MXNet::NDArray.argmax(output, axis: 1)\n",
    "    numerator += MXNet::NDArray.sum(predictions == label)\n",
    "    denominator += data.shape[0]\n",
    "  end\n",
    "  return (numerator / denominator).as_scalar\n",
    "end"
   ]
  },
  {
   "cell_type": "code",
   "execution_count": 17,
   "metadata": {
    "scrolled": true
   },
   "outputs": [
    {
     "name": "stdout",
     "output_type": "stream",
     "text": [
      "Epoch 0. Loss: 0.049135282553980746, Train_acc 0.9857757687568665, Test_acc 0.9718000292778015 (3.999875 sec)\n",
      "Epoch 1. Loss: 0.042806731517116225, Train_acc 0.9872098565101624, Test_acc 0.9722999930381775 (3.910006 sec)\n",
      "Epoch 2. Loss: 0.03742000448070466, Train_acc 0.987993597984314, Test_acc 0.9729999899864197 (3.895349 sec)\n",
      "Epoch 3. Loss: 0.03264522926310698, Train_acc 0.9892275929450989, Test_acc 0.9731000065803528 (4.054005 sec)\n",
      "Epoch 4. Loss: 0.02842021626768013, Train_acc 0.9905449748039246, Test_acc 0.9740999937057495 (4.068799 sec)\n",
      "Epoch 5. Loss: 0.024795985047953824, Train_acc 0.9917622804641724, Test_acc 0.9750999808311462 (4.173076 sec)\n",
      "Epoch 6. Loss: 0.021673260604652266, Train_acc 0.9926294088363647, Test_acc 0.975600004196167 (4.107134 sec)\n",
      "Epoch 7. Loss: 0.018886250545146564, Train_acc 0.9934131503105164, Test_acc 0.9757999777793884 (4.093758 sec)\n",
      "Epoch 8. Loss: 0.016440149055824926, Train_acc 0.994396984577179, Test_acc 0.9768000245094299 (4.08556 sec)\n",
      "Epoch 9. Loss: 0.014396662841209521, Train_acc 0.9953141808509827, Test_acc 0.9767000079154968 (3.914634 sec)\n"
     ]
    },
    {
     "data": {
      "text/plain": [
       "10"
      ]
     },
     "execution_count": 17,
     "metadata": {},
     "output_type": "execute_result"
    }
   ],
   "source": [
    "epochs = 10\n",
    "learning_rate = 0.001\n",
    "smoothing_constant = 0.01\n",
    "\n",
    "epochs.times do |e|\n",
    "  start = Time.now\n",
    "  cumulative_loss = 0.0\n",
    "  train_iter.each_with_index do |batch, i|\n",
    "    data = batch.data[0].as_in_context(@model_ctx).reshape([-1, 784])\n",
    "    label = batch.label[0].as_in_context(@model_ctx)\n",
    "    label_one_hot = MXNet::NDArray.one_hot(label, depth: 10)\n",
    "    loss = MXNet::Autograd.record do\n",
    "      output = net(data)\n",
    "      softmax_cross_entropy(output, label_one_hot)\n",
    "    end\n",
    "    loss.backward()\n",
    "    sgd(@params, learning_rate)\n",
    "    cumulative_loss += MXNet::NDArray.sum(loss).as_scalar\n",
    "  end\n",
    "  \n",
    "  test_accuracy = evaluate_accuracy(test_iter)\n",
    "  train_accuracy = evaluate_accuracy(train_iter)\n",
    "  duration = Time.now - start\n",
    "  puts \"Epoch #{e}. Loss: #{cumulative_loss/num_examples}, Train_acc #{train_accuracy}, Test_acc #{test_accuracy} (#{duration} sec)\"\n",
    "end"
   ]
  },
  {
   "cell_type": "markdown",
   "metadata": {},
   "source": [
    "## モデルを予測で使用する"
   ]
  },
  {
   "cell_type": "code",
   "execution_count": 15,
   "metadata": {},
   "outputs": [
    {
     "data": {
      "text/plain": [
       ":imshow"
      ]
     },
     "execution_count": 15,
     "metadata": {},
     "output_type": "execute_result"
    }
   ],
   "source": [
    "require 'chunky_png'\n",
    "require 'base64'\n",
    "\n",
    "def imshow(ary)\n",
    "  height, width = ary.shape\n",
    "  fig = ChunkyPNG::Image.new(width, height, ChunkyPNG::Color::TRANSPARENT)\n",
    "  ary = ((ary - ary.min) / ary.max) * 255\n",
    "  0.upto(height - 1) do |i|\n",
    "    0.upto(width - 1) do |j|\n",
    "      v = ary[i, j].round\n",
    "      fig[j, i] = ChunkyPNG::Color.rgba(v, v, v, 255)\n",
    "    end\n",
    "  end\n",
    "\n",
    "  src = 'data:image/png;base64,' + Base64.strict_encode64(fig.to_blob)\n",
    "  IRuby.display \"<img src='#{src}' width='#{width*2}' height='#{height*2}' />\", mime: 'text/html'\n",
    "end"
   ]
  },
  {
   "cell_type": "code",
   "execution_count": 16,
   "metadata": {},
   "outputs": [
    {
     "data": {
      "text/html": [
       "<img src='data:image/png;base64,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' width='56' height='560' />"
      ],
      "text/plain": [
       "\"<img src='data:image/png;base64,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' width='56' height='560' />\""
      ]
     },
     "metadata": {},
     "output_type": "display_data"
    },
    {
     "name": "stdout",
     "output_type": "stream",
     "text": [
      "model predictions are: \n",
      "[2, 2, 7, 2, 8, 6, 8, 1, 2, 9]\n",
      "<MXNet::NDArray 10 @cpu(0)>\n",
      "\n",
      "true labels: \n",
      "[2, 2, 7, 2, 8, 6, 8, 1, 2, 9]\n",
      "<MXNet::NDArray 10 @cpu(0)>\n"
     ]
    }
   ],
   "source": [
    "# Define the funtion to do prediction\n",
    "def model_predict(data)\n",
    "  output = net(data)\n",
    "  MXNet::NDArray.argmax(output, axis: 1)\n",
    "end\n",
    "\n",
    "samples = 10\n",
    "sample_iter = test_iter = MXNet::IO::MNISTIter.new(\n",
    "  image: 't10k-images-idx3-ubyte',\n",
    "  label: 't10k-labels-idx1-ubyte',\n",
    "  batch_size: samples,\n",
    "  shuffle: true)\n",
    "sample_iter.each do |batch|\n",
    "  batch = sample_iter.next_batch\n",
    "  data = batch.data[0].as_in_context(@model_ctx)\n",
    "  label = batch.label[0]\n",
    "\n",
    "  im = data.transpose(axes: [1, 0, 2, 3]).reshape([10*28, 28, 1])\n",
    "  imshow(im[0..-1, 0..-1, 0].to_narray)\n",
    "\n",
    "  pred = model_predict(data.reshape([-1, 784]))\n",
    "  puts \"model predictions are: #{pred.inspect}\"\n",
    "  puts\n",
    "  puts \"true labels: #{label.inspect}\"\n",
    "  break\n",
    "end"
   ]
  },
  {
   "cell_type": "code",
   "execution_count": null,
   "metadata": {},
   "outputs": [],
   "source": []
  }
 ],
 "metadata": {
  "kernelspec": {
   "display_name": "Ruby 2.5.0",
   "language": "ruby",
   "name": "ruby"
  },
  "language_info": {
   "file_extension": ".rb",
   "mimetype": "application/x-ruby",
   "name": "ruby",
   "version": "2.5.0"
  },
  "toc": {
   "nav_menu": {},
   "number_sections": true,
   "sideBar": true,
   "skip_h1_title": false,
   "toc_cell": false,
   "toc_position": {},
   "toc_section_display": "block",
   "toc_window_display": false
  }
 },
 "nbformat": 4,
 "nbformat_minor": 2
}
